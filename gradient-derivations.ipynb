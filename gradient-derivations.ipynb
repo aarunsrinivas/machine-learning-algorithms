{
 "cells": [
  {
   "cell_type": "markdown",
   "metadata": {},
   "source": [
    "### Linear Regression"
   ]
  },
  {
   "cell_type": "markdown",
   "metadata": {},
   "source": [
    "$L = \\frac{1}{2m} \\sum_{i=1}^{m} (h(x^i) - y^i)^2$\n",
    "\n",
    "$L = \\frac{1}{2m} \\sum_{i=1}^{m} ((Wx^i + b) - y^i)^2$\n",
    "\n",
    "$\\frac{\\partial L}{\\partial W_j} = 2 * \\frac{1}{2m} \\sum_{i=1}^{m} ((Wx^i + b) - y^i) * x^i_j$\n",
    "\n",
    "$\\frac{\\partial L}{\\partial W_j} = \\frac{1}{m} \\sum_{i=1}^{m} ((Wx^i + b) - y^i) * x^i_j$\n",
    "\n",
    "$\\frac{\\partial L}{\\partial W} = \\frac{1}{m} x^T((Wx + b) - y)$\n",
    "\n",
    "$\\frac{\\partial L}{\\partial W} = \\frac{1}{m} x^T(h(x) - y)$\n",
    "\n",
    "$\\frac{\\partial L}{\\partial b} = \\frac{1}{m} \\sum_{i=1}^{m} h(x^i) - y^i$"
   ]
  },
  {
   "cell_type": "markdown",
   "metadata": {},
   "source": [
    "### Logistic Regression"
   ]
  },
  {
   "cell_type": "markdown",
   "metadata": {},
   "source": [
    "$L = -y * \\log{(h(x))} -(1 - y) * \\log{(1 - h(x))}$\n",
    "\n",
    "$L = - y * \\log{(a)} -(1 - y) * \\log{(1 - a)}$\n",
    "\n",
    "$a = \\frac{1}{1 + e^{-z}}$\n",
    "\n",
    "$z = Wx + b$\n",
    "\n",
    "$\\frac{\\partial L}{\\partial a} = -\\frac{y}{a} + \\frac{1 - y}{1 - a}$\n",
    "\n",
    "$\\frac{\\partial a}{\\partial z} = \\frac{e^{-z}}{(1 + e^{-z})^2} = \\frac{1 + e^{-z} - 1}{(1 + e^{-z})^2} = \\frac{1}{1 + e^{-z}} - \\frac{1}{(1 + e^{-z})^2} = \\frac{1}{1 + e^{-z}} * (1 - \\frac{1}{1 + e^{-z}})$\n",
    "\n",
    "$\\frac{\\partial a}{\\partial z} = a * (1 - a)$\n",
    "\n",
    "$\\frac{\\partial z}{\\partial W} = x$\n",
    "\n",
    "$\\frac{\\partial z}{\\partial b} = 1$\n",
    "\n",
    "$\\frac{\\partial L}{\\partial W} = \\frac{\\partial L}{\\partial a} * \\frac{\\partial a}{\\partial z} * \\frac{\\partial z}{\\partial W}$\n",
    "\n",
    "$\\frac{\\partial L}{\\partial b} = \\frac{\\partial L}{\\partial a} * \\frac{\\partial a}{\\partial z} * \\frac{\\partial z}{\\partial b}$\n",
    "\n",
    "$\\frac{\\partial L}{\\partial W} = (-\\frac{y}{a} + \\frac{1 - y}{1 - a}) * a * (1 - a) * x = x * (h(x) - y)$\n",
    "\n",
    "$\\frac{\\partial L}{\\partial b} = h(x) - y$\n",
    "\n",
    "$\\frac{\\partial L}{\\partial W} = \\frac{1}{m} \\sum_{i=1}^{m} x^i * (h(x^i) - y^i) = \\frac{1}{m} x^T (h(x) - y)$\n",
    "\n",
    "$\\frac{\\partial L}{\\partial b} = \\frac{1}{m} \\sum_{i=1}^{m} h(x^i) - y^i$"
   ]
  },
  {
   "cell_type": "markdown",
   "metadata": {},
   "source": [
    "### SVM"
   ]
  },
  {
   "cell_type": "markdown",
   "metadata": {},
   "source": [
    "$L = \\frac{1}{2}||W||^2 + C * [\\frac{1}{m} \\sum_{i=1}^{m} \\max(0, 1 - y^i * h(x^i))] $\n",
    "\n",
    "$L = \\frac{1}{2}||W||^2 + C * [\\frac{1}{m} \\sum_{i=1}^{m} \\max(0, 1 - y^i * (Wx^i + b))] $\n",
    "\n",
    "$\\frac{\\partial L}{\\partial W} = \\frac{1}{m} \\sum_{i=1}^{m} \n",
    "\\left\\{\n",
    "    \\begin{array}{lr}\n",
    "        W, & \\text{if } \\max(0, 1 - y^i * h(x^i)) = 0\\\\\n",
    "        W - C y^i x^i, & \\text{otherwise }\n",
    "    \\end{array}\n",
    "\\right\\}\n",
    "$\n",
    "\n",
    "$\\frac{\\partial L}{\\partial b} = \\frac{1}{m} \\sum_{i=1}^{m} \n",
    "\\left\\{\n",
    "    \\begin{array}{lr}\n",
    "        W, & \\text{if } \\max(0, 1 - y^i * h(x^i)) = 0\\\\\n",
    "        W - C y^i, & \\text{otherwise }\n",
    "    \\end{array}\n",
    "\\right\\}\n",
    "$"
   ]
  }
 ],
 "metadata": {
  "kernelspec": {
   "display_name": "Python 3.8.13 ('machine-learning')",
   "language": "python",
   "name": "python3"
  },
  "language_info": {
   "name": "python",
   "version": "3.8.13"
  },
  "orig_nbformat": 4,
  "vscode": {
   "interpreter": {
    "hash": "18d6a4c2ed782b57b98612a474345f30fa394e89ea38cc49ef6e2fa09996ab5e"
   }
  }
 },
 "nbformat": 4,
 "nbformat_minor": 2
}
